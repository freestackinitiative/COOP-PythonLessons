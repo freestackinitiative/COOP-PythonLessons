{
 "cells": [
  {
   "cell_type": "markdown",
   "metadata": {
    "id": "ELzkR4zPIHa5"
   },
   "source": [
    "<img src=\"https://tinyurl.com/k2t79s6t\" style=\"float: left; margin: 20px; height: 55px\">\n",
    " \n",
    "# Basic Python Fundamentals\n",
    "\n",
    "_Authors: Christopher Chan, Martin Arroyo_"
   ]
  },
  {
   "cell_type": "markdown",
   "metadata": {
    "id": "_lcClxj9IHbC"
   },
   "source": [
    "### Objective\n",
    "\n",
    "Upon completing this lesson, you should be able to understand the following:\n",
    "1. Variable Creation and Naming Conventions\n",
    "2. Expressions & Operators: Arithmetic, Assignment, Relational, and Logical\n",
    "3. Objects and Types\n",
    "4. Index and Slicing\n",
    "5. Strings\n",
    "6. Lists, Tuples, Dictionaries and Mutability\n",
    "\n",
    "This will help you understand some basic fundamentals of Python and prepare you for the upcoming lessons."
   ]
  },
  {
   "cell_type": "markdown",
   "metadata": {},
   "source": [
    "## Run the cell below to set up necessary functions for this notebook"
   ]
  },
  {
   "cell_type": "code",
   "execution_count": 2,
   "metadata": {},
   "outputs": [],
   "source": [
    "from IPython.display import HTML"
   ]
  },
  {
   "cell_type": "markdown",
   "metadata": {},
   "source": [
    "##### ==================================================================================================\n",
    "## 0. Hello, world!\n",
    "\n",
    "Welcome to **Basic Python Fundamentals**! To get started, we will first take you through a rite of passage that every beginner programmer goes through - writing their first program!\n",
    "\n",
    "In the cell below this one, write the following line of code and replace `{your-name}` with your own name and then run it:\n",
    ">```python\n",
    "print(\"Hello, {your-name}!\")\n",
    ">```\n",
    "<br/>\n",
    "\n",
    "*Example:*\n",
    "```python\n",
    "print(\"Hello, Martin!\")\n",
    "```"
   ]
  },
  {
   "cell_type": "code",
   "execution_count": null,
   "metadata": {},
   "outputs": [],
   "source": [
    "# WRITE YOUR CODE BELOW THIS LINE"
   ]
  },
  {
   "cell_type": "markdown",
   "metadata": {},
   "source": [
    "Congratulations! You just wrote your first program! \n",
    "\n",
    "Let's break down what you did with just that single line of code:\n",
    "- You created a `string` object (`\"Hello, {your-name}!\"`) to represent a value\n",
    "- You passed the object you created into a function called `print`\n",
    "- You executed the line of code, which used the `print` function to display the `string` object you defined on the screen\n",
    "\n",
    "Some of what was mentioned above likely still sounds foreign to you - and that's OK. We will be explaining more as the course goes along.  \n",
    "\n",
    "Here are some key takeaways from this exercise:\n",
    "- We create objects that we pass into other objects in order to get an output (which is also an object)\n",
    "- The `print` function displays the contents of an object that we pass into it on the screen\n",
    "- We will be using the `print` function a lot in this course (and in general) so it's worth remembering how to use it\n",
    "\n",
    "Now that you're officially a programmer, it's time to dive deeper into Python by learning about variables!"
   ]
  },
  {
   "cell_type": "markdown",
   "metadata": {
    "id": "CnppWrBcIHbE"
   },
   "source": [
    "##### ==================================================================================================\n",
    "## 1. Variable Creation and Naming Conventions\n",
    "\n",
    "Variables are names that have been assigned to specific *objects (we will give a more concrete definition of \"objects\" a little later on*.) You can think of these names as placeholders for the values that you assign to them. For example, we'll take our `Hello, world!` program we just wrote and modify it to use a variable:\n",
    "\n",
    ">```python\n",
    "my_greeting = \"Hello, Martin!\"\n",
    ">\n",
    ">print(my_greeting)\n",
    ">```\n",
    ">`Output`: Hello, Martin!\n",
    "\n",
    "\n",
    "As you can see, instead of putting our greeting (`\"Hello, Martin!\"`) inside of the `print` function like before, we assigned the value to a variable we called `my_greeting`. This variable name isn't anything special - we just made it up. While there are naming conventions to follow, it's up to you to come up with names for your variables.\n",
    "\n",
    "You can think about variables like [cell references in Excel](https://www.ablebits.com/office-addins-blog/excel-cell-reference/#:~:text=What%20is%20a%20cell%20reference,column%20B%2C%20and%20so%20on.), except they are references that allow you to choose the name (e.g. instead of referencing cell `A1` we are assigning a value of `\"Hello, Martin!\"` to a defined reference we call `my_greeting`)\n",
    "\n",
    "**Watch the video below to learn more about variables in Python and how to use them, then continue on:**\n",
    "\n",
    "(If you don't see the video, just run the cell below)"
   ]
  },
  {
   "cell_type": "code",
   "execution_count": 3,
   "metadata": {
    "tags": [
     "hide-input"
    ]
   },
   "outputs": [
    {
     "data": {
      "text/html": [
       "\n",
       "<div align=\"center\">\n",
       "    <iframe width=\"560\" height=\"315\"\n",
       "    src=\"https://www.youtube.com/embed/cQT33yu9pY8\">\n",
       "    </iframe>\n",
       "</div> \n"
      ],
      "text/plain": [
       "<IPython.core.display.HTML object>"
      ]
     },
     "execution_count": 3,
     "metadata": {},
     "output_type": "execute_result"
    }
   ],
   "source": [
    "HTML(\"\"\"\n",
    "<div align=\"center\">\n",
    "    <iframe width=\"560\" height=\"315\"\n",
    "    src=\"https://www.youtube.com/embed/cQT33yu9pY8\">\n",
    "    </iframe>\n",
    "</div> \n",
    "\"\"\")"
   ]
  },
  {
   "cell_type": "markdown",
   "metadata": {
    "id": "FqNJpBuRIHbF"
   },
   "source": [
    "---\n",
    "\n",
    "### **Now it's your turn!**\n",
    "\n",
    "**Instructions:**\n",
    "\n",
    "Create a variable called `num_coopers` to represent the number of COOPers in class. Assume the number is 16. Then `print` the value out to the screen.\n",
    "\n",
    "Example:\n",
    "```python\n",
    "my_variable = 15\n",
    "print(my_variable)\n",
    "```"
   ]
  },
  {
   "cell_type": "code",
   "execution_count": null,
   "metadata": {
    "id": "kNIr-qYSIHbF"
   },
   "outputs": [],
   "source": [
    "# Create your `num_coopers` variable here and print it out"
   ]
  },
  {
   "cell_type": "markdown",
   "metadata": {
    "id": "KGCcI3FHIHbH"
   },
   "source": [
    "Create a variable `num_capt` to represent the number of captains in class. Assume the number is 4.\n"
   ]
  },
  {
   "cell_type": "code",
   "execution_count": null,
   "metadata": {
    "id": "Uh1q5JdTIHbJ"
   },
   "outputs": [],
   "source": [
    "# Create your `num_capt` variable here and print it out"
   ]
  },
  {
   "cell_type": "markdown",
   "metadata": {
    "id": "nIMZh-9eIHbK"
   },
   "source": [
    "---\n",
    "\n",
    "### Restrictions on Variable Names\n",
    "\n",
    "- Cannot start with numbers (i.e., `5`, `5_head`).\n",
    "- Cannot match names of Python keywords (i.e., '`for`', '`and`', '`elif`').\n",
    "- Cannot contain spaces or periods."
   ]
  },
  {
   "cell_type": "markdown",
   "metadata": {
    "id": "twM5RzshvrYy"
   },
   "source": [
    "#### ✋🏼 Callout !!\n",
    "\n",
    "Python is case-sensitive. This means that variables like these: `coop_careers` and `COOP_careers` are not the same!"
   ]
  },
  {
   "cell_type": "markdown",
   "metadata": {
    "id": "EEP3rRJTIHbM"
   },
   "source": [
    "### Best Practices for Variable Names\n",
    "- Should be *unambiguous* and *descriptive*\n",
    "- Short and clear variable names are best\n",
    "- Lowercase variables with underscores between words (i.e., '`coop_student`', '`coop_captain`')"
   ]
  },
  {
   "cell_type": "markdown",
   "metadata": {},
   "source": [
    "##### ==================================================================================================\n",
    "## 2. Expressions & Operators: Arithmetic, Assignment, Relational, and Logical\n",
    "\n",
    "So far, we have done simple variable assignments where we take a single value and assign it to some variable. But that doesn't reflect the reality of most programs that we will want to write. We will want to perform more advanced operations on different types of data. This is often accomplished by using *Expressions* along with *Operators*.\n",
    "\n",
    ">Example: Add 5 + 5 and save the result to a variable called `my_sum`\n",
    ">```python\n",
    "my_sum = 5 + 5\n",
    ">\n",
    "> print(my_sum)\n",
    ">```\n",
    "> `Output`: 10\n",
    "\n",
    "Let's break down what's happening here:\n",
    "- We are using an `Expression` - `5 + 5` - to create a new value (10 - which is the result of the expression)\n",
    "- The `+` sign in this case is an `Arithmetic Operator` in Python. Here we are using it to perform addition\n",
    "- Python is evaluating the expression and storing the result to a variable we called `my_sum`\n",
    "- To store the result in `my_sum` we use an assignment operator - the single equal sign (`=`)\n",
    "\n",
    "As you can see, we were able to use Python like a calculator to compute the value of an expression and then store its result in a variable that we can reference later. This is a simple example, but you will use similar patterns to create more complex programs down the line.\n",
    "\n",
    "**Watch the following video to get a more in-depth introduction to operators and then continue on:**\n",
    "\n",
    "(If you don't see the video, just run the cell below)"
   ]
  },
  {
   "cell_type": "code",
   "execution_count": 4,
   "metadata": {
    "tags": [
     "hide-input"
    ]
   },
   "outputs": [
    {
     "data": {
      "text/html": [
       "\n",
       "<div align=\"center\">\n",
       "    <iframe width=\"560\" height=\"315\"\n",
       "    src=\"https://www.youtube.com/embed/v5MR5JnKcZI\">\n",
       "    </iframe>\n",
       "</div> \n"
      ],
      "text/plain": [
       "<IPython.core.display.HTML object>"
      ]
     },
     "execution_count": 4,
     "metadata": {},
     "output_type": "execute_result"
    }
   ],
   "source": [
    "HTML(\"\"\"\n",
    "<div align=\"center\">\n",
    "    <iframe width=\"560\" height=\"315\"\n",
    "    src=\"https://www.youtube.com/embed/v5MR5JnKcZI\">\n",
    "    </iframe>\n",
    "</div> \n",
    "\"\"\")"
   ]
  },
  {
   "cell_type": "markdown",
   "metadata": {},
   "source": [
    "### Arithmetic Operators\n",
    "\n",
    "Here are the common arithmetic operators that you will use:\n",
    "\n",
    "- Addition (`+`)\n",
    "- Subtraction (`-`)\n",
    "- Multiplication (`*`)\n",
    "- Division (`/`)\n",
    "- Floor division: divides then round down to the nearest integer (`//`)\n",
    "- Exponents (`**`)\n",
    "- [Modulo: remainder division](https://www.youtube.com/watch?v=E-7jqDp2an0) (`%`)\n",
    "\n",
    "Run the cell below to see examples of each of these operators:"
   ]
  },
  {
   "cell_type": "code",
   "execution_count": null,
   "metadata": {},
   "outputs": [],
   "source": [
    "print(\"4 + 2 =\", 4 + 2)  #addition\n",
    "print(\"4 - 2 =\", 4 - 2)  #subtraction\n",
    "print(\"4 * 2 =\", 4 * 2)  #multiplication\n",
    "print(\"4 / 4 =\", 4 / 4)  #division\n",
    "print(\"4 // 4 =\", 4 // 4) #floor division / integer division (divides then round down to the nearest integer)\n",
    "print(\"4 ** 2 =\", 4 ** 2) #exponent\n",
    "print(\"4 % 2 =\", 4 % 2)  #modulo"
   ]
  },
  {
   "cell_type": "markdown",
   "metadata": {},
   "source": [
    "### The Concatenation Operator (`+`)\n",
    "\n",
    "In Python, the `+` operator is generally known as a concatenation operator, which means that it combines the expression or element on the left side of the `+` with the element or expression on the right. We saw it work how we would expect with numbers, but it also works on other data types as well, such as `strings`.\n",
    "\n",
    ">Example:\n",
    ">```python\n",
    ">my_name = \"Martin\"\n",
    ">salutation = \"Hello, my name is \"\n",
    ">\n",
    ">greeting = salutation + my_name\n",
    ">\n",
    ">print(greeting)\n",
    ">```\n",
    ">`Output`: Hello, my name is Martin\n",
    "\n",
    "So as you can see, the `+` operator is quite flexible."
   ]
  },
  {
   "cell_type": "markdown",
   "metadata": {},
   "source": [
    "### Assignment Operators\n",
    "\n",
    "Python uses a single equal sign (`=`) to assign values to a variable. We can combine the arithmetic operators with the assignment operator as a shortcut when we perform an operation and update a variable.\n",
    "\n",
    "Let's look at updating the value of a variable that we already have. We'll call it `my_sum` and set the initial value to 2:\n",
    "```python\n",
    "my_sum = 2\n",
    "```\n",
    "Now let's update the variable by adding 2 to it using standard assignment:\n",
    "```python\n",
    "my_sum = my_sum + 2\n",
    "print(my_sum)\n",
    "```\n",
    "`Output`: 4\n",
    "\n",
    "Now we'll do the same thing, but using combined assignment operators:\n",
    "```python\n",
    "my_sum += 2\n",
    "print(my_sum)\n",
    "```\n",
    "`Output`: 4\n",
    "\n",
    "**Ok, they do the same thing... so what?**\n",
    "\n",
    "Both methods are correct, so why would we use one over the other? This is really a question of style and convention, so there is no right answer. Style and convention is out of the scope of this lesson, but there are some common conventions that you should be aware of. Since most of the time we will be reading code rather than writing it, you should know what is happening when you see other people's code using these conventions. Long story short - we include both methods here so that you are aware of these conventions and how they work. \n",
    "\n",
    "\n",
    "Run the cell below to see an example of how you can use the various assignment operators:"
   ]
  },
  {
   "cell_type": "code",
   "execution_count": null,
   "metadata": {},
   "outputs": [],
   "source": [
    "my_num = 10 # Standard assignment\n",
    "print(\"my_num is\", my_num)\n",
    "my_num -= 1 # Subtracts 1 from `my_num` and assigns the result back to `my_num`\n",
    "print(\"my_num -= 1 is\", my_num) \n",
    "my_num += 1 # Adds 1 to `my_num` and assigns the result back to `my_num`\n",
    "print(\"my_num += 1 is\", my_num)\n",
    "my_num *= 1 # Multiplies the original value in `my_num` by 1 and assigns the result back to `my_num`\n",
    "print(\"my_num *= 1 is\", my_num)\n",
    "my_num /= 1 # Divides the original value in `my_num` by 1 and assigns the result back to `my_num`\n",
    "print(\"my_num /= 1 is\", my_num)"
   ]
  },
  {
   "cell_type": "markdown",
   "metadata": {},
   "source": [
    "### **Now it's your turn!**\n",
    "\n",
    "**Instructions:**\n",
    "\n",
    "Create a variable called `my_new_num` and assign it an initial value of 3. Then do the following:\n",
    "1. Update `my_new_num` by adding 2 to the initial value\n",
    "2. Now subtract 1 from `my_new_num` and update it\n",
    "3. Multiply `my_new_num` by 2 and update the value\n",
    "4. Divide `my_new_num` by 1 and update the value\n",
    "5. `print` the new value of `my_new_num`\n",
    "\n",
    "Did you get `8.0` as your answer? If so, great! If not, double-check your steps and try again!"
   ]
  },
  {
   "cell_type": "code",
   "execution_count": 18,
   "metadata": {},
   "outputs": [],
   "source": [
    "# Create the variable\n",
    "\n",
    "# 1. Add 2 to my_new_num and update\n",
    "\n",
    "# 2. Subtract 1 from my_new_num and update\n",
    "\n",
    "# 3. Multiply my_new_num by 2 and update\n",
    "\n",
    "# 4. Divide my_new_num by 1 and update the value\n",
    "\n",
    "# 5. Print my_new_num\n"
   ]
  },
  {
   "cell_type": "markdown",
   "metadata": {},
   "source": [
    "### Relational/Comparison Operators\n",
    "\n",
    "We have seen relational/comparison operators already in both Excel and SQL. They do the same thing in Python: compare an expression on the left of the operator to an expression on the right of the operator (e.g. `2 > 1`). The result of Relational and Logical Operators will always be a `Boolean` value, which simply means that the results will always be either `True` or `False`.\n",
    "\n",
    "Here are the comparison operators:\n",
    "\n",
    "- Strictly Greater than: `>`\n",
    "- Greater than or equal to: `>=`\n",
    "\n",
    "- Strictly Less than: `<`\n",
    "- Less than or equal to: `<=`\n",
    "\n",
    "- Equal: `==`\n",
    "- Does not equal: `!=`\n",
    "\n",
    "### Logical Operators\n",
    "\n",
    "Along with the comparison operators, Python includes the standard logical operators `and`, `or`, and `not`. As a review, here is what each one does:\n",
    "\n",
    "- `and`: Are both X and Y statements true?\n",
    "- `or`: Is at least one of the two statements X and Y true?\n",
    "- `not`: Negates the statement that follows (e.g. `not True == False` because the `not` operator negated the `True` operator)"
   ]
  },
  {
   "cell_type": "markdown",
   "metadata": {},
   "source": [
    "### **Now it's your turn!**\n",
    "\n",
    "**Instructions:**\n",
    "\n",
    "We're going to do an exercise and introduce another useful keyword called `assert`, which we can use to help us debug our code. It allows us to make assertions of our code, and if we are wrong it will throw an error.\n",
    "\n",
    "For the challenge below, you will complete each `assert` statement with the correct result. For example:\n",
    "\n",
    "You will see:\n",
    "```python\n",
    "assert (10 > 6) == #Replace with your answer\n",
    "```\n",
    "\n",
    "This is saying \"I assert that 10 is greater than 6.\" Since we know that this is true, we will put `True` after the `==` sign:\n",
    "```python\n",
    "assert (10 > 6) == True\n",
    "```\n",
    "\n",
    "When you run the cell, you will either get a message telling you `You are correct!` if your answer is right. Otherwise, you will get an `AssertionError`, which means that the answer is incorrect.\n",
    "\n",
    "Go through each example and fill in whether the statement is `True` or `False`:"
   ]
  },
  {
   "cell_type": "code",
   "execution_count": null,
   "metadata": {},
   "outputs": [],
   "source": [
    "assert (10 > 5) == #Replace with your answer\n",
    "print(\"You are correct!\")"
   ]
  },
  {
   "cell_type": "code",
   "execution_count": null,
   "metadata": {},
   "outputs": [],
   "source": [
    "assert (1 == 2) == #Replace with your answer\n",
    "print(\"You are correct!\")"
   ]
  },
  {
   "cell_type": "code",
   "execution_count": null,
   "metadata": {},
   "outputs": [],
   "source": [
    "assert (10 < 5) == #Replace with your answer\n",
    "print(\"You are correct!\")"
   ]
  },
  {
   "cell_type": "code",
   "execution_count": null,
   "metadata": {},
   "outputs": [],
   "source": [
    "assert (10 > 5 and 4 > 1) == #Replace with your answer\n",
    "print(\"You are correct!\")"
   ]
  },
  {
   "cell_type": "code",
   "execution_count": null,
   "metadata": {},
   "outputs": [],
   "source": [
    "assert (10 > 5 and 4 < 1) == #Replace with your answer\n",
    "print(\"You are correct!\")"
   ]
  },
  {
   "cell_type": "code",
   "execution_count": null,
   "metadata": {},
   "outputs": [],
   "source": [
    "assert (10 < 5 or 5 > 10) == #Replace with your answer\n",
    "print(\"You are correct!\")"
   ]
  },
  {
   "cell_type": "code",
   "execution_count": null,
   "metadata": {},
   "outputs": [],
   "source": [
    "assert (not 10 < 5) == #Replace with your answer\n",
    "print(\"You are correct!\")"
   ]
  },
  {
   "cell_type": "markdown",
   "metadata": {
    "id": "qZG3JMhEvrYz"
   },
   "source": [
    "##### ==================================================================================================\n",
    "## 3. Objects and Types\n",
    "\n",
    "The concept of objects (and by extension Object Oriented Programming) is something that can take a whole introductory course to explain, but for our purposes\n",
    "we only need to know a few key things:\n",
    "\n",
    "- In Python, *everything is an object (including functions!)*. Variables always reference some kind of object\n",
    "- All objects have three properties that we are concerned with: *attributes, methods*, and *types*\n",
    "- Attributes are things that describe an object, such as a name. These will vary depending on the object in question\n",
    "- Methods are things that the object can do. For example, a `string` object has a `replace` method which allows you to replace text within that string\n",
    "- Each object has a data type that defines how it can be interacted with. For instance, the number `1` is an integer object and can be used with other numeric types and operations"
   ]
  },
  {
   "cell_type": "markdown",
   "metadata": {
    "id": "qd-3z6c7IHbO"
   },
   "source": [
    "### Common Types in Python\n",
    "\n",
    "\n",
    "### Single Elements\n",
    "\n",
    "- **Integer:** Are whole number ranging from negative infinity to infinity, such as `-2`,`-1`,`0`,`1`, `2`, etc.\n",
    "- **Float:** A number with a decimal, such as `1.23482` or `3.0`.\n",
    "- **Boolean:** `True` or `False`.\n",
    "\n",
    "### Containers\n",
    "\n",
    "- **Strings:** A sequence of characters: `\"Chris is very handsome\"`\n",
    "- **Lists:** An ordered sequence of objects: `[1, 'love', ['Chris']]`\n",
    "- **Tuples:** Similar to a List but is immutable after it is created, `(1, 'love', ['Chris'])`\n",
    "- **Dictionaries**: A collection of key-value pairs: `{'name': 'Chris Chan', 'gender': Male, 'organization': COOP_Careers}`"
   ]
  },
  {
   "cell_type": "markdown",
   "metadata": {
    "id": "K7DfaVNcIHbO"
   },
   "source": [
    "##### ==================================================================================================\n",
    "Adding two `int` (integer numbers) would return a integer.\n",
    "\n",
    "Example:"
   ]
  },
  {
   "cell_type": "code",
   "execution_count": null,
   "metadata": {
    "id": "oplFp7lxIHbP"
   },
   "outputs": [],
   "source": [
    "ten = 5 + 5\n",
    "print(ten)"
   ]
  },
  {
   "cell_type": "markdown",
   "metadata": {
    "id": "ACDG59TUIHbP"
   },
   "source": [
    "##### ==================================================================================================\n",
    "Adding two `float` (numbers with decimals) would return a float.\n",
    "\n",
    "Example:"
   ]
  },
  {
   "cell_type": "code",
   "execution_count": null,
   "metadata": {
    "id": "tAJeT1B9IHbQ"
   },
   "outputs": [],
   "source": [
    "also_ten = 5.0 + 5.0\n",
    "print(also_ten)"
   ]
  },
  {
   "cell_type": "markdown",
   "metadata": {
    "id": "IuZnv1LEIHbQ"
   },
   "source": [
    "##### ==================================================================================================\n",
    "The `+` operation concatenates objects, including strings.\n",
    "\n",
    "Adding two `str` (strings - sequence of characters)\n",
    "\n",
    "Example:"
   ]
  },
  {
   "cell_type": "code",
   "execution_count": null,
   "metadata": {
    "id": "Aiw4ZdvYIHbQ"
   },
   "outputs": [],
   "source": [
    "fifty_five = \"5\" + \"5\"\n",
    "print(fifty_five)"
   ]
  },
  {
   "cell_type": "markdown",
   "metadata": {
    "id": "_FJ5ra0gIHbR"
   },
   "source": [
    "##### ==================================================================================================\n",
    "The built-in function in Python `len` counts and returns the number of elements in a object.\n",
    "\n",
    "Applying `len` to a string.\n",
    "\n",
    "Example:"
   ]
  },
  {
   "cell_type": "code",
   "execution_count": null,
   "metadata": {
    "id": "7_eurzzeIHbR"
   },
   "outputs": [],
   "source": [
    "len(\"33333\")"
   ]
  },
  {
   "cell_type": "markdown",
   "metadata": {
    "id": "wR1AWp2jIHbX"
   },
   "source": [
    "##### ==================================================================================================\n",
    "## Strings"
   ]
  },
  {
   "cell_type": "markdown",
   "metadata": {
    "id": "V7fy6CzbIHbX"
   },
   "source": [
    "*String construction*\n",
    "\n",
    "The `type()` function returns us the type of the object\n",
    "\n",
    "Example:"
   ]
  },
  {
   "cell_type": "code",
   "execution_count": null,
   "metadata": {
    "colab": {
     "base_uri": "https://localhost:8080/"
    },
    "executionInfo": {
     "elapsed": 541,
     "status": "ok",
     "timestamp": 1679541177418,
     "user": {
      "displayName": "Tina Lao",
      "userId": "09026724934311741046"
     },
     "user_tz": 420
    },
    "id": "YhGpAeezIHbX",
    "outputId": "78483b08-56f9-4fa4-ba67-75c05a932707"
   },
   "outputs": [],
   "source": [
    "my_string = \"I love COOP Careers\"\n"
   ]
  },
  {
   "cell_type": "markdown",
   "metadata": {
    "id": "lJHUW148IHbX"
   },
   "source": [
    "##### ==================================================================================================\n",
    "The `len()` function returns us the number of elements in the object\n",
    "\n",
    "Example:"
   ]
  },
  {
   "cell_type": "code",
   "execution_count": null,
   "metadata": {
    "colab": {
     "base_uri": "https://localhost:8080/",
     "height": 166
    },
    "executionInfo": {
     "elapsed": 138,
     "status": "error",
     "timestamp": 1679540455177,
     "user": {
      "displayName": "Tina Lao",
      "userId": "09026724934311741046"
     },
     "user_tz": 420
    },
    "id": "7vI1KLphIHbY",
    "outputId": "f0436553-8bb6-4ab9-b3d8-eb213e9ffd85"
   },
   "outputs": [],
   "source": [
    "len(my_string)"
   ]
  },
  {
   "cell_type": "markdown",
   "metadata": {
    "id": "7_VisV-CIHbY"
   },
   "source": [
    "##### ==================================================================================================\n",
    "*String replacement*\n",
    "\n",
    "`.replace()` is a **method** -- a function that's built into all objects of a given type.\n",
    "\n",
    "Functions (e.g. print, len, and type) and methods (e.g. str.replace) are effectively the same. However methods are defined within a particular class and is called on instances of that class using . followed by a method name.\n",
    "\n",
    "Example:"
   ]
  },
  {
   "cell_type": "code",
   "execution_count": null,
   "metadata": {
    "id": "vqfd2UkFIHbY"
   },
   "outputs": [],
   "source": [
    "my_string = my_string.replace(\"COOP Careers\", \"Chris\")\n",
    "print(my_string)"
   ]
  },
  {
   "cell_type": "code",
   "execution_count": null,
   "metadata": {
    "id": "WS24MubOM_lA"
   },
   "outputs": [],
   "source": [
    "len(my_string)"
   ]
  },
  {
   "cell_type": "code",
   "execution_count": null,
   "metadata": {
    "id": "E1J8DOuiNFYn"
   },
   "outputs": [],
   "source": [
    "my_string"
   ]
  },
  {
   "cell_type": "markdown",
   "metadata": {
    "id": "okL-hG9kIHbY"
   },
   "source": [
    "##### ==================================================================================================\n",
    "## String Indexing\n",
    "\n",
    "Python allows us to extract characters at specific index locations within a string. All index by default start with index 0.\n",
    "\n",
    "Recall `my_string` is now defined as `I love Chris`\n",
    "\n",
    "<img src=\"https://tinyurl.com/jakceks4\" style=\"float: left; margin: 20px; height: 120px\">"
   ]
  },
  {
   "cell_type": "markdown",
   "metadata": {
    "id": "zXNjVr6YIHbY"
   },
   "source": [
    "##### ==================================================================================================\n",
    "*Select the first index character in* `my_string`\n",
    "\n",
    "Example:"
   ]
  },
  {
   "cell_type": "code",
   "execution_count": null,
   "metadata": {
    "id": "32iuXdWLIHbZ"
   },
   "outputs": [],
   "source": [
    "my_string[0]"
   ]
  },
  {
   "cell_type": "markdown",
   "metadata": {
    "id": "k1SFUDPBIHbZ"
   },
   "source": [
    "*Select the fifth index character in* `my_string`"
   ]
  },
  {
   "cell_type": "code",
   "execution_count": null,
   "metadata": {
    "id": "I-0dKeTkIHbZ"
   },
   "outputs": [],
   "source": [
    "my_string[4]"
   ]
  },
  {
   "cell_type": "markdown",
   "metadata": {
    "id": "lz8-cYFVIHbZ"
   },
   "source": [
    "##### ==================================================================================================\n",
    "\"Slicing: is a process by which you may pass a range of index values to select multiple elements in a string. In general, slicing in Python is inclusive on the left and exclusive on the right. In mathematics think of a interval from `[a,b)`. the general format for slicing a string is `x[start:end]` such that `x` represents the string\n",
    "\n",
    "Example:"
   ]
  },
  {
   "cell_type": "code",
   "execution_count": null,
   "metadata": {
    "id": "WFuENyjNIHbZ"
   },
   "outputs": [],
   "source": [
    "my_string[0:9]"
   ]
  },
  {
   "cell_type": "markdown",
   "metadata": {
    "id": "BLara2qoIHba"
   },
   "source": [
    "Example:"
   ]
  },
  {
   "cell_type": "code",
   "execution_count": null,
   "metadata": {
    "id": "_PFYogCJIHba"
   },
   "outputs": [],
   "source": [
    "my_string[3:10]"
   ]
  },
  {
   "cell_type": "markdown",
   "metadata": {
    "id": "cQxL83VsIHba"
   },
   "source": [
    "##### ==================================================================================================\n",
    "You may also control the increments of your slices (default is 1) by adding on one extra component to the general format `x[start:end:step]`\n",
    "\n",
    "*Slice every third character starting at 0 and ending at 12. Remember spaces count as a character*\n",
    "\n",
    "Example:"
   ]
  },
  {
   "cell_type": "code",
   "execution_count": null,
   "metadata": {
    "id": "WjE3Op-FIHba"
   },
   "outputs": [],
   "source": [
    "my_string[0:12:2]"
   ]
  },
  {
   "cell_type": "markdown",
   "metadata": {
    "id": "VN8ceINFIHba"
   },
   "source": [
    "##### ==================================================================================================\n",
    "*Reversing string `my_string`*\n",
    "\n",
    "Example:"
   ]
  },
  {
   "cell_type": "code",
   "execution_count": null,
   "metadata": {
    "id": "I1CzcIDcIHba"
   },
   "outputs": [],
   "source": [
    "my_string[\n",
    "    \n",
    "          ::-1]\n"
   ]
  },
  {
   "cell_type": "markdown",
   "metadata": {
    "id": "xvbLkKhMIHbb"
   },
   "source": [
    "##### ==================================================================================================\n",
    "*Select the last character in the string `my_string`*\n",
    "\n",
    "Example:"
   ]
  },
  {
   "cell_type": "code",
   "execution_count": null,
   "metadata": {
    "id": "lIjBGS8uIHbb"
   },
   "outputs": [],
   "source": [
    "my_string[-4]"
   ]
  },
  {
   "cell_type": "markdown",
   "metadata": {
    "id": "VWMmdj6zIHbb"
   },
   "source": [
    "##### ==================================================================================================\n",
    "### Lists\n",
    "\n",
    "A `list` is a mutable sequence of objects in Python that may contain any combination of types\n",
    "\n",
    "<b>WARNING:</b> Using `list` as a variable name will overwrite the built-in Python function. `list = [0,1,2,3,4,5]`. <b>Do not do this!</b>"
   ]
  },
  {
   "cell_type": "markdown",
   "metadata": {
    "id": "5MyXqkPjIHbc"
   },
   "source": [
    "##### ==================================================================================================\n",
    "Creating a sample list\n",
    "\n",
    "Example:"
   ]
  },
  {
   "cell_type": "code",
   "execution_count": null,
   "metadata": {
    "id": "35EI2Id-IHbc"
   },
   "outputs": [],
   "source": [
    "my_list = [\"apple\",\"orange\",\"grape\",\"pineapple\",\"cherry\",\"lemon\"]\n",
    "print(my_list)"
   ]
  },
  {
   "cell_type": "markdown",
   "metadata": {
    "id": "ir8IB5zWIHbc"
   },
   "source": [
    "##### ==================================================================================================\n",
    "Recall `list` are mutable so you may modify them as you like\n",
    "\n",
    "Example:"
   ]
  },
  {
   "cell_type": "code",
   "execution_count": null,
   "metadata": {
    "id": "r0vEyDv7IHbc"
   },
   "outputs": [],
   "source": [
    "my_list[3] = \"RED\"\n",
    "print(my_list)\n"
   ]
  },
  {
   "cell_type": "markdown",
   "metadata": {
    "id": "vGkqIm3XIHbc"
   },
   "source": [
    "##### ==================================================================================================\n",
    "*Adding new item to the list via append*\n",
    "\n",
    "Example:"
   ]
  },
  {
   "cell_type": "code",
   "execution_count": null,
   "metadata": {
    "id": "xLdNHwaGIHbc"
   },
   "outputs": [],
   "source": [
    "my_list.append(\"BLUE\")\n",
    "print(my_list)"
   ]
  },
  {
   "cell_type": "markdown",
   "metadata": {
    "id": "ZC_z_U2eIHbd"
   },
   "source": [
    "##### ==================================================================================================\n",
    "### Tuples\n",
    "\n",
    "A `tuple` is a sequence of objects may contain any combination of types which is ordered and immutable.\n",
    "\n",
    "Example:"
   ]
  },
  {
   "cell_type": "code",
   "execution_count": null,
   "metadata": {
    "id": "_Vgg4Or7IHbd"
   },
   "outputs": [],
   "source": [
    "my_tuple = (0,1,2,3,4,5)\n",
    "print(my_tuple)\n"
   ]
  },
  {
   "cell_type": "markdown",
   "metadata": {
    "id": "J0QZ9hiQIHbd"
   },
   "source": [
    "##### ==================================================================================================\n",
    "*Slice tuple from index 2 to 5*\n",
    "\n",
    "Example:"
   ]
  },
  {
   "cell_type": "code",
   "execution_count": null,
   "metadata": {
    "id": "Ftrxx533IHbd"
   },
   "outputs": [],
   "source": [
    "print(my_tuple[2:5])"
   ]
  },
  {
   "cell_type": "markdown",
   "metadata": {
    "id": "k75poPS0IHbd"
   },
   "source": [
    "##### ==================================================================================================\n",
    "### Range\n",
    "\n",
    "The `range` function  can be used to create a sequence of numbers. The order of arguments is start, stop, step, just like in slicing.\n",
    "##### ==================================================================================================\n",
    "*Creating a sequence of numbers from  0 to 10 `range` function*\n",
    "\n",
    "Example:"
   ]
  },
  {
   "cell_type": "code",
   "execution_count": null,
   "metadata": {
    "id": "qrHEYgxhIHbe"
   },
   "outputs": [],
   "source": [
    "list(range(0, 10))"
   ]
  },
  {
   "cell_type": "markdown",
   "metadata": {
    "id": "2XYAOTDRIHbe"
   },
   "source": [
    "##### ==================================================================================================\n",
    "*Creating a sequence of numbers from 1 to 10, incrementing by 2 using `range` function*\n",
    "\n",
    "Example:"
   ]
  },
  {
   "cell_type": "code",
   "execution_count": null,
   "metadata": {
    "id": "06sGV-ybIHbe"
   },
   "outputs": [],
   "source": [
    "list(range(0, 10, 2))"
   ]
  },
  {
   "cell_type": "markdown",
   "metadata": {
    "id": "uecfeLKKIHbe"
   },
   "source": [
    "Example:"
   ]
  },
  {
   "cell_type": "code",
   "execution_count": null,
   "metadata": {
    "id": "loKi38rRIHbe"
   },
   "outputs": [],
   "source": [
    "list(range(0, 9, 2))"
   ]
  },
  {
   "cell_type": "markdown",
   "metadata": {
    "id": "4vemU5oNIHbe"
   },
   "source": [
    "##### ==================================================================================================\n",
    "### Dictionaries\n",
    "\n",
    "A `Dictionary` is an ordered collection of key-value pairs, where the key indicates the location of some data and the value is the data that a key points to. They are mutable, but do not allow duplicate keys.\n",
    "##### =================================================================================================="
   ]
  },
  {
   "cell_type": "markdown",
   "metadata": {
    "id": "xK9wG6S-IHbf"
   },
   "source": [
    "*Creating a dictionary that maps the first name, last name and gender of the individual*"
   ]
  },
  {
   "cell_type": "code",
   "execution_count": null,
   "metadata": {
    "id": "KXboDZtRIHbf"
   },
   "outputs": [],
   "source": [
    "my_dict = {\"first_name\": \"Chris\", \"last_name\": \"Chan\", \"gender\": \"Male\"}\n",
    "print(my_dict[\"first_name\"])\n",
    "print(my_dict[\"last_name\"])\n",
    "print(my_dict[\"gender\"])"
   ]
  },
  {
   "cell_type": "markdown",
   "metadata": {
    "id": "mAHwTjbBIHbf"
   },
   "source": [
    "##### ==================================================================================================\n",
    "*Add an entry for \"height\" of the individual*\n",
    "\n",
    "Example:"
   ]
  },
  {
   "cell_type": "code",
   "execution_count": null,
   "metadata": {
    "id": "wEA1x2hMIHbf"
   },
   "outputs": [],
   "source": [
    "my_dict[\"height_cm\"] = 173\n",
    "print(my_dict[\"first_name\"])\n",
    "print(my_dict[\"last_name\"])\n",
    "print(my_dict[\"gender\"])\n",
    "print(my_dict[\"height_cm\"])"
   ]
  },
  {
   "cell_type": "markdown",
   "metadata": {
    "id": "W1bpxRzUIHbf"
   },
   "source": [
    "##### ==================================================================================================\n",
    "### Summary\n",
    "- Python has the following built-in types (among others):\n",
    "    - Single-element:\n",
    "        - `int` whole numbers\n",
    "        - `float` decimal numbers\n",
    "        - `bool` `True` or `False`\n",
    "        \n",
    "    - Container:\n",
    "        - `str` for sequences of characters\n",
    "        - `list` for holding arbitrary objects and is mutable\n",
    "        - `tuple` for holding arbitrary objects but is immutable \n",
    "        - `dict` for storing arbitrary objects in key:value pairs\n",
    "        \n",
    "- Ordered container types such as `str`, `list`, and `tuple` allow you to select items by position.\n",
    "- The built-in `range` function returns a sequence of numbers, starting from 0 by default, and increments by 1 (by default), and stops before a specified number.\n",
    "- Python has built-in functions such as `len` that take in object and returns the number of items in an object.\n",
    "- Python types have built-in methods such as `str.replace`, replaces a specified phrase with another specified phrase."
   ]
  },
  {
   "cell_type": "markdown",
   "metadata": {
    "id": "zfclQ__AIHbg"
   },
   "source": [
    "##### ==================================================================================================\n",
    "### Exercise 1:\n",
    "\n",
    "Assign any `int` value to a variable we call `x`. Then use the `assignment operators` to reassign the value of `x` by carrying out the following steps:\n",
    "\n",
    "1. Double the variable `x`\n",
    "2. Add 6 to the variable `x`\n",
    "3. Divide the variable `x` by 2\n",
    "4. Subtract your initial value from `x`\n",
    "5. Use the `assert` function in python to establish that x == 3 (An error will occur if an error is made)"
   ]
  },
  {
   "cell_type": "code",
   "execution_count": null,
   "metadata": {
    "id": "fBIP5QiWIHbg"
   },
   "outputs": [],
   "source": [
    "# Write your solution here"
   ]
  },
  {
   "cell_type": "markdown",
   "metadata": {
    "id": "0xuxw0XPIHbg"
   },
   "source": [
    "##### ==================================================================================================\n",
    "### Exercise 2:\n",
    "\n",
    "Create a string called `my_name` that contains the letters of your first name in all lower case letters"
   ]
  },
  {
   "cell_type": "code",
   "execution_count": null,
   "metadata": {
    "id": "AeWB0mv4IHbg"
   },
   "outputs": [],
   "source": [
    "# Write your solution here"
   ]
  },
  {
   "cell_type": "markdown",
   "metadata": {
    "id": "z1Z5wYYiIHbh"
   },
   "source": [
    "Create another string called `my_intro` that that contains the sentence `\"hello my job is \"` in all lower case letters"
   ]
  },
  {
   "cell_type": "code",
   "execution_count": null,
   "metadata": {
    "id": "HZZaDtFvIHbh"
   },
   "outputs": [],
   "source": [
    "# Write your solution here"
   ]
  },
  {
   "cell_type": "markdown",
   "metadata": {
    "id": "ErjwHDmDIHbh"
   },
   "source": [
    "Reassign the string `my_intro` and use the `.replace` function to replace the word `\"job\"` with `\"name\"`"
   ]
  },
  {
   "cell_type": "code",
   "execution_count": null,
   "metadata": {
    "id": "J9exauBzIHbh"
   },
   "outputs": [],
   "source": [
    "# Write your solution here"
   ]
  },
  {
   "cell_type": "markdown",
   "metadata": {
    "id": "ajdB4j53IHbh"
   },
   "source": [
    "Use the addition `+` operator to concate the string `my_intro` followed by `my_name`. Be sure to utilize proper spacing with `\" \"` when needed"
   ]
  },
  {
   "cell_type": "code",
   "execution_count": null,
   "metadata": {
    "id": "YMuq5rm_IHbi"
   },
   "outputs": [],
   "source": [
    "# Write your solution here"
   ]
  },
  {
   "cell_type": "markdown",
   "metadata": {
    "id": "16IJOqmvIHbi"
   },
   "source": [
    "##### ==================================================================================================\n",
    "### Exercise 3:\n",
    "\n",
    "Create a string called `your_slice` that contains the letters `\"thisiswhycoopisthebest\"`. Then slice the string `your_slice` to obtain the letters `coop` as an output"
   ]
  },
  {
   "cell_type": "code",
   "execution_count": null,
   "metadata": {
    "id": "0NacFMVSIHbi"
   },
   "outputs": [],
   "source": [
    "# Write your solution here"
   ]
  },
  {
   "cell_type": "markdown",
   "metadata": {
    "id": "5lo_FcsBIHbi"
   },
   "source": [
    "##### ==================================================================================================\n",
    "### Exercise 4:\n",
    "\n",
    "Create a list called `my_list` that contains the integers 1,2,3,4,5. Then append the string `six` to `my_list`"
   ]
  },
  {
   "cell_type": "code",
   "execution_count": null,
   "metadata": {
    "id": "gN7NOpwFIHbi"
   },
   "outputs": [],
   "source": [
    "# Write your solution here"
   ]
  }
 ],
 "metadata": {
  "celltoolbar": "Raw Cell Format",
  "colab": {
   "provenance": []
  },
  "kernelspec": {
   "display_name": "Python 3 (ipykernel)",
   "language": "python",
   "name": "python3"
  },
  "language_info": {
   "codemirror_mode": {
    "name": "ipython",
    "version": 3
   },
   "file_extension": ".py",
   "mimetype": "text/x-python",
   "name": "python",
   "nbconvert_exporter": "python",
   "pygments_lexer": "ipython3",
   "version": "3.11.4"
  }
 },
 "nbformat": 4,
 "nbformat_minor": 1
}
